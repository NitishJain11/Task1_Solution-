{
 "cells": [
  {
   "cell_type": "code",
   "execution_count": 2,
   "id": "52179c24-80ed-4320-bc85-779f545f2d7a",
   "metadata": {},
   "outputs": [
    {
     "name": "stdout",
     "output_type": "stream",
     "text": [
      "flatern list [1, 2, 3, 4, 44, 55, 66, 34, 56, 78, 89, 34, 1, 2, 3, 34, 55, 67, 78, 89, 45, 22, 61, 34, 56]\n",
      "THIS IS THE PRODUCT OF NUMBERS PRESENT IN THE LIST1 1033677959746771369708460310528000\n"
     ]
    }
   ],
   "source": [
    "# Q1. Create a function which will take a list as an argument and return the product of all the numbers\n",
    "# after creating a flat list.\n",
    "\n",
    "# Use the below-given list as an argument for your function.\n",
    "\n",
    "\n",
    "# list1 = [1,2,3,4, [44,55,66, True], False, (34,56,78,89,34), {1,2,3,3,2,1}, {1:34, \"key2\": [55, 67, 78, 89], 4: (45,\n",
    "# 22, 61, 34)}, [56, 'data science'], 'Machine Learning']\n",
    "list1= [1,2,3,4, [44,55,66, True], False, (34,56,78,89,34), {1,2,3,3,2,1}, {1:34, \"key2\": [55, 67, 78, 89], 4: (45,22, 61, 34)}, [56, 'data science'], 'Machine Learning']\n",
    "def check(l)->list:\n",
    "    for i in l:\n",
    "        if type(i)!=int:\n",
    "            return False\n",
    "    else:\n",
    "        return True\n",
    "def flatern_list(l3)->list:\n",
    "    l4=[]\n",
    "    for i in l3:\n",
    "        if type(i)==list:\n",
    "            for j in i:\n",
    "                l4.append(j)\n",
    "        if type(i)==int:\n",
    "            l4.append(i)\n",
    "        if type(i)==dict:\n",
    "            for j in i.keys():\n",
    "                l4.append(i[j])\n",
    "        if type(i)==tuple:\n",
    "            for _ in i:\n",
    "                l4.append(_)\n",
    "        if type(i)==set:\n",
    "            for items in i:\n",
    "                l4.append(items)\n",
    "    while check(l4)!=True:\n",
    "        temp = l4\n",
    "        l4=flatern_list(temp)\n",
    "    return l4\n",
    "def product(mylist)->list:\n",
    "    count =1\n",
    "    for i in range(len(mylist)):count = count*mylist[i]\n",
    "    return(count)\n",
    "Answer_list=flatern_list(list1)\n",
    "print('flatern list',Answer_list)\n",
    "print(\"THIS IS THE PRODUCT OF NUMBERS PRESENT IN THE LIST1\",product(Answer_list))"
   ]
  },
  {
   "cell_type": "code",
   "execution_count": 4,
   "id": "6b343924-241f-41f1-a4b8-8977e53c4c53",
   "metadata": {},
   "outputs": [
    {
     "name": "stdout",
     "output_type": "stream",
     "text": [
      "This is the encrypted version of your meassage-> r$dzmg$gl$yvxlnv$z$wzgz$hxrvmgrhg.\n"
     ]
    }
   ],
   "source": [
    "# Q2. Write a python program for encrypting a message sent to you by your friend. The logic of encryption\n",
    "# should be such that, for a the output should be z. For b, the output should be y. For c, the output should\n",
    "# be x respectively. Also, the whitespace should be replaced with a dollar sign. Keep the punctuation\n",
    "# marks unchanged.\n",
    "\n",
    "\n",
    "# Input Sentence: I want to become a Data Scientist.\n",
    "\n",
    "\n",
    "# Encrypt the above input sentence using the program you just created.\n",
    "import string\n",
    "# list_punctuation =list(string.punctuation)\n",
    "# list_alphabet =list(string.ascii_lowercase)\n",
    "# print(list_alphabet,list_punctuation)\n",
    "def encryption(message)->str:\n",
    "    string =message.lower()\n",
    "    p=['!', '\"', '#', '$', '%', '&', \"'\", '(', ')', '*', '+', ',', '-', '.', '/', ':', ';', '<', '=', '>', '?', '@', '[', '\\\\', ']', '^', '_', '`', '{', '|', '}', '~']\n",
    "    l=['a', 'b', 'c', 'd', 'e', 'f', 'g', 'h', 'i', 'j', 'k', 'l', 'm', 'n', 'o', 'p', 'q', 'r', 's', 't', 'u', 'v', 'w', 'x', 'y', 'z']\n",
    "    l.reverse()\n",
    "    l2=['a', 'b', 'c', 'd', 'e', 'f', 'g', 'h', 'i', 'j', 'k', 'l', 'm', 'n', 'o', 'p', 'q', 'r', 's', 't', 'u', 'v', 'w', 'x', 'y', 'z']\n",
    "    l3=[]\n",
    "    for i in range(0,len(string)):\n",
    "        if string[i] in p :\n",
    "            l3.append(string[i])\n",
    "        for j in range(0 ,len(l)):\n",
    "            temp = string[i]\n",
    "            if temp == l2[j]:\n",
    "                l3.append(l[j])\n",
    "            if temp ==\" \":\n",
    "                l3.append('$')\n",
    "                break\n",
    "            temp.format()\n",
    "    s= ''.join(i for i in l3)\n",
    "    return s\n",
    "message='I want to become a Data Scientist.'\n",
    "print('This is the encrypted version of your meassage->',encryption(message))"
   ]
  },
  {
   "cell_type": "code",
   "execution_count": null,
   "id": "848f5be6-2555-41ce-873b-80d3a4dd0098",
   "metadata": {},
   "outputs": [],
   "source": []
  }
 ],
 "metadata": {
  "kernelspec": {
   "display_name": "Python 3 (ipykernel)",
   "language": "python",
   "name": "python3"
  },
  "language_info": {
   "codemirror_mode": {
    "name": "ipython",
    "version": 3
   },
   "file_extension": ".py",
   "mimetype": "text/x-python",
   "name": "python",
   "nbconvert_exporter": "python",
   "pygments_lexer": "ipython3",
   "version": "3.10.8"
  }
 },
 "nbformat": 4,
 "nbformat_minor": 5
}
